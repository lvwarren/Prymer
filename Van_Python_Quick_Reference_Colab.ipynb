{
  "cells": [
    {
      "cell_type": "markdown",
      "id": "82093c9f",
      "metadata": {
        "id": "82093c9f"
      },
      "source": [
        "### Van Blazing Fast Python Primer  Featuring Jupyter Notebook Quick Reference\n",
        "#### lvwarren @ ualr . edu\n",
        "#### Tue Dec 28 2021\n",
        "- adaped from [here](https://2.bp.blogspot.com/-T6gLqzIoNHU/WsDLMpk9VjI/AAAAAAAAEgg/hoAYioxsbK48_EvgsT8WtprDEdV9iXR_QCLcBGAs/s1600/Python-Cheat-Sheet1.png)\n",
        "and [here](https://medium.com/@meghamohan?p=c2145cf72747)\n",
        "- and various licks of my own."
      ]
    },
    {
      "cell_type": "markdown",
      "id": "dfa1b4a2",
      "metadata": {
        "id": "dfa1b4a2"
      },
      "source": [
        "### Dark Mode in Jupyter Notebooks\n",
        "- This is a must to avoid dumping tons of blue light into your eyes late at night:\n",
        "- in a terminal window bash shell type: [pip install jupyterthemes](https://stackoverflow.com/questions/46510192/change-the-theme-in-jupyter-notebook)\n",
        "- add this command to your ~/.bashrc in your home macOS or Linux directory:\n",
        "\n",
        "<code>\n",
        "alias jn='jt -t onedork -fs 95 -altp -tfs 11 -nfs 115 -cellw 88% -T; jupyter notebook &'  \n",
        "</code>\n",
        "\n",
        "- i like the onedork theme best, but [oceans16 is nice too](https://github.com/dunovank/jupyter-themes/tree/master/screens)\n",
        "- then vtype jn to fire up a jupyter notebook.\n",
        "- on windows [just vtype](https://jupyter-notebook-beginner-guide.readthedocs.io/en/latest/execute.html)\n",
        "\n",
        "<code>\n",
        "jupyter notebook_name\n",
        "</code>\n",
        "\n",
        "- If you use tensorflow environments vtype:\n",
        "\n",
        "<code>\n",
        "conda activate environment_name\n",
        "</code>\n",
        "\n",
        "- I use the environment name tfml, you can use any name you set up when you downloaded tensorflow using conda\n"
      ]
    },
    {
      "cell_type": "markdown",
      "id": "189d3a90",
      "metadata": {
        "id": "189d3a90"
      },
      "source": [
        "### Dating Documents Using Shell Command:\n",
        "- You can run any shell command by using the '!' escape character"
      ]
    },
    {
      "cell_type": "code",
      "execution_count": 1,
      "id": "9246e475",
      "metadata": {
        "id": "9246e475",
        "outputId": "99fecc90-8f88-4ac3-f182-b1b88140fb77",
        "colab": {
          "base_uri": "https://localhost:8080/"
        }
      },
      "outputs": [
        {
          "output_type": "execute_result",
          "data": {
            "text/plain": [
              "['Thu Dec 30 08:42:24 UTC 2021']"
            ]
          },
          "metadata": {},
          "execution_count": 1
        }
      ],
      "source": [
        "# Display the date in a code cell, useful for dating documents and executions\n",
        "!!date"
      ]
    },
    {
      "cell_type": "markdown",
      "id": "33df9515",
      "metadata": {
        "id": "33df9515"
      },
      "source": [
        "### Refer to a Local Image File:"
      ]
    },
    {
      "cell_type": "code",
      "execution_count": 2,
      "id": "e7917783",
      "metadata": {
        "id": "e7917783",
        "outputId": "d04fc33f-e61e-4936-e2e1-b90f445fb27a",
        "colab": {
          "base_uri": "https://localhost:8080/"
        }
      },
      "outputs": [
        {
          "output_type": "stream",
          "name": "stdout",
          "text": [
            "sample_data\n"
          ]
        }
      ],
      "source": [
        "### Check Local Files\n",
        "!ls"
      ]
    },
    {
      "cell_type": "markdown",
      "id": "056dff82",
      "metadata": {
        "id": "056dff82"
      },
      "source": [
        "### Three Ways To Insert Image Into Jupyter Notebook\n",
        "- [reference](https://datascienceparichay.com/article/insert-image-in-a-jupyter-notebook/)"
      ]
    },
    {
      "cell_type": "markdown",
      "id": "f3c6eb7f",
      "metadata": {
        "id": "f3c6eb7f"
      },
      "source": [
        "###### Method 1: Directly in a code cell, with size control"
      ]
    },
    {
      "cell_type": "code",
      "execution_count": 3,
      "id": "1c8d8ff2",
      "metadata": {
        "id": "1c8d8ff2"
      },
      "outputs": [],
      "source": [
        "# from IPython.display import Image\n",
        "# Image(url= 'https://miro.medium.com/max/1400/1*oErPCXv1PFcuuizXqGEEbw.png', width=400, height=400)"
      ]
    },
    {
      "cell_type": "markdown",
      "id": "cff016b0",
      "metadata": {
        "id": "cff016b0"
      },
      "source": [
        "###### Method 2: Directly in a markdown cell, no size control"
      ]
    },
    {
      "cell_type": "code",
      "execution_count": 4,
      "id": "002cc997",
      "metadata": {
        "id": "002cc997"
      },
      "outputs": [],
      "source": [
        "# - Change this cell to a markdown cell.\n",
        "# - ![Map](images/PythonMap.png) # Requires local instance of image!"
      ]
    },
    {
      "cell_type": "markdown",
      "id": "3684215a",
      "metadata": {
        "id": "3684215a"
      },
      "source": [
        "###### Method 3:  Directly in a markdown cell , with size control, providing one dimension avoids aspect distortion\n",
        "### Here's a Python Map:\n",
        "<img src=\"https://miro.medium.com/max/1400/1*oErPCXv1PFcuuizXqGEEbw.png\" width=600  />"
      ]
    },
    {
      "cell_type": "markdown",
      "id": "39cd5777",
      "metadata": {
        "id": "39cd5777"
      },
      "source": [
        "### Onto the Main Event Python Quick Reference"
      ]
    },
    {
      "cell_type": "markdown",
      "id": "9fe34b2b",
      "metadata": {
        "id": "9fe34b2b"
      },
      "source": [
        "### Python Variable Assignment:\n",
        "- If you understand each line below, you are ahead of the game.\n",
        "- If not, just Google the construction you aren't sure about, like the idiom:\n",
        "\n",
        "- <code>type(str).\\_\\_name\\_\\_</code>\n",
        "\n",
        "| Variable Assignment |\n",
        "| --- |\n",
        "| integer = 1 |\n",
        "| string = 'string' |\n",
        "| unicode string = u'unicode string' |\n",
        "| multi_line_string = ''' |\n",
        "|              line 1 |\n",
        "|              line 2 |\n",
        "| ''' |\n",
        "| tuple = (element 1, element2, element3, ...) |\n",
        "| list = [element1, element2. element3. ...1 |\n",
        "| dictionary = { key1 : value1, key2 : value2, ... } |\n",
        "| dictionary[key] = value |\n",
        "| class instance = ClassName(initargs) |\n",
        "\n",
        "\n"
      ]
    },
    {
      "cell_type": "code",
      "execution_count": 5,
      "id": "ac9bac53",
      "metadata": {
        "id": "ac9bac53"
      },
      "outputs": [],
      "source": [
        "# A convenience function for providing the type we are working with.\n",
        "def vtype(u):\n",
        "    return type(u).__name__"
      ]
    },
    {
      "cell_type": "code",
      "execution_count": 6,
      "id": "bec1ec53",
      "metadata": {
        "id": "bec1ec53",
        "outputId": "88c35976-990a-4d9d-cc14-c0d35499510d",
        "colab": {
          "base_uri": "https://localhost:8080/"
        }
      },
      "outputs": [
        {
          "output_type": "stream",
          "name": "stdout",
          "text": [
            "int 1\n",
            "str string\n",
            "str unicode string Ω\n",
            "str \n",
            "multi-line\n",
            "      string\n",
            "\n",
            "tuple ('t', 'u', 'p', 'l', 'e')\n",
            "tuple ('t', 'u', 'p', 'l', 'e', '.')\n",
            "list ['t', 'u', 'p', 'l', 'e']\n",
            "list ['t', 'u', 'p', 'l', 'e', '.']\n",
            "dict {'t': 116, 'u': 117, 'p': 112, 'l': 108, 'e': 101}\n",
            "int 116\n",
            "Person My name is John and my age is 36\n"
          ]
        }
      ],
      "source": [
        "# integer vtype is 'int'\n",
        "i = 1;\n",
        "print(vtype(i), i)\n",
        "# string vtype is 'string'\n",
        "s = 'string';\n",
        "print(vtype(s), s)\n",
        "# unicode string vtype is string\n",
        "us = u'unicode string Ω';\n",
        "print(vtype(us), us)\n",
        "# multiple line string is just a string with embedded newlines\n",
        "ms = \\\n",
        "'''\n",
        "multi-line\n",
        "      string\n",
        "''';\n",
        "print(vtype(ms), ms)\n",
        "# tupple vtype\n",
        "t = ('t','u','p','l','e');\n",
        "print(vtype(t), t)\n",
        "tpd = t + ('.',) # singleton must have comma!\n",
        "print(vtype(tpd), tpd)\n",
        "l = ['t','u','p','l','e'];\n",
        "print(vtype(l), l)\n",
        "l.append('.');\n",
        "print(vtype(l), l)\n",
        "# Use dictionary comprehension which is crazy compact compared to enumeration!\n",
        "word = 'tuple'\n",
        "d = {word[n]:ord(word[n]) for n in range(0,len(word)) }\n",
        "print(vtype(d), d)\n",
        "print(vtype(d[word[0]]), d[word[0]])\n",
        "\n",
        "class Person:\n",
        "  def __init__(self, name, age):\n",
        "    self.name = name\n",
        "    self.age = age\n",
        "\n",
        "  def whoami(self):\n",
        "    return(\"My name is \" + self.name + \" and my age is \" + str(self.age))\n",
        "\n",
        "p = Person(\"John\", 36)\n",
        "\n",
        "print(vtype(p), p.whoami())"
      ]
    },
    {
      "cell_type": "markdown",
      "id": "878bd6aa",
      "metadata": {
        "id": "878bd6aa"
      },
      "source": [
        "### Python Functions:\n",
        "- Most operations in Python are accomplished by functions.\n",
        "- Each indentation level is four spaces and indentation replaces curly braces in other languages\n",
        "- Therefore Python is white-space sensitive!\n",
        "\n",
        "| Functions | |\n",
        "| --- | --- |\n",
        "| def function_name(arg1, arg2,keyword1=val1, keyword2=val2, . ..): | |\n",
        "| &nbsp; &nbsp; &nbsp; &nbsp; \\<function body> | |\n",
        "| &nbsp; &nbsp; &nbsp; &nbsp; return retum_value | |\n",
        "| e.g. | |\n",
        "| def my_function(x, y, z=0): | my_function(1, 2) --> 3 |\n",
        "| &nbsp; &nbsp; &nbsp; &nbsp; sum = x + y + z | my_function(1, 2, 3) --> 6 |\n",
        "| &nbsp; &nbsp; &nbsp; &nbsp; return sum | my_function(1, 2, z=10) --> 4 |"
      ]
    },
    {
      "cell_type": "code",
      "execution_count": 7,
      "id": "a9a73195",
      "metadata": {
        "id": "a9a73195",
        "outputId": "80363462-36a5-414d-8971-4582eeb801ae",
        "colab": {
          "base_uri": "https://localhost:8080/"
        }
      },
      "outputs": [
        {
          "output_type": "stream",
          "name": "stdout",
          "text": [
            "3\n",
            "6\n",
            "7\n"
          ]
        }
      ],
      "source": [
        "def my_sum(x, y, z=0): # We can give a variable a default value and even omit it from a call.\n",
        "    return x + y + z\n",
        "\n",
        "print(my_sum(1,2))\n",
        "print(my_sum(1,2,3))\n",
        "print(my_sum(1,2,z=4))"
      ]
    },
    {
      "cell_type": "markdown",
      "id": "2f4e97c3",
      "metadata": {
        "id": "2f4e97c3"
      },
      "source": [
        "### Python Classes:\n",
        "- Class operations are supported in Python\n",
        "\n",
        "| Classes | |\n",
        "| --- | --- |\n",
        "| class ClassName(SuperClass): | |\n",
        "| &nbsp; &nbsp; &nbsp; &nbsp; class variable = static value | |\n",
        "| &nbsp; &nbsp; &nbsp; &nbsp; def __init__ (self, value1, <...>): | |\n",
        "| &nbsp; &nbsp; &nbsp; &nbsp; &nbsp; &nbsp; &nbsp; &nbsp; self.instance_variable_1 = value_1 | |\n",
        "| &nbsp; &nbsp; &nbsp; &nbsp; &nbsp; &nbsp; &nbsp; &nbsp; self.instance_function() | |\n",
        "| &nbsp; &nbsp; &nbsp; &nbsp; def instance_function( self, arg1, <...>): | |\n",
        "| &nbsp; &nbsp; &nbsp; &nbsp; &nbsp; &nbsp; &nbsp; &nbsp; \\<function body> | |\n",
        "| &nbsp; &nbsp; &nbsp; &nbsp; &nbsp; &nbsp; &nbsp; &nbsp; return return value | |\n",
        "| e.g. | |\n",
        "| class MyClass(object): | MyClass.offset --> 1 |\n",
        "| &nbsp; &nbsp; &nbsp; &nbsp; offset = 1 | |\n",
        "| &nbsp; &nbsp; &nbsp; &nbsp; def __init__ (self, value): | c = MyClass(2)|\n",
        "| &nbsp; &nbsp; &nbsp; &nbsp; &nbsp; &nbsp; &nbsp; &nbsp; self.value = value | c.value --> 2 |\n",
        "| &nbsp; &nbsp; &nbsp; &nbsp; def get_offset_value(self): | c.get_offset_value() -> 3 |\n",
        "| &nbsp; &nbsp; &nbsp; &nbsp; &nbsp; &nbsp; &nbsp; &nbsp; return MyClass.offset + self_value | |\n",
        "\n",
        "\n"
      ]
    },
    {
      "cell_type": "code",
      "execution_count": 8,
      "id": "7a07f131",
      "metadata": {
        "id": "7a07f131",
        "outputId": "9dfdd609-4b55-4936-b26e-0017e66a4100",
        "colab": {
          "base_uri": "https://localhost:8080/"
        }
      },
      "outputs": [
        {
          "output_type": "stream",
          "name": "stdout",
          "text": [
            "5\n",
            "10\n",
            "15\n"
          ]
        }
      ],
      "source": [
        "class AddOffset:\n",
        "    def __init__(self, value, offset):\n",
        "        self.value = value\n",
        "        self.offset = offset\n",
        "    def get_value(self):\n",
        "        return self.value\n",
        "    def get_offset(self):\n",
        "        return self.offset\n",
        "    def get_value_plus_offset(self):\n",
        "        return self.value + self.offset\n",
        "\n",
        "c = AddOffset(5, 10)\n",
        "print(c.get_value())\n",
        "print(c.get_offset())\n",
        "print(c.get_value_plus_offset())"
      ]
    },
    {
      "cell_type": "markdown",
      "id": "99ad1de9",
      "metadata": {
        "id": "99ad1de9"
      },
      "source": [
        "### Python Imports and Common Libraries\n",
        "- Library Functions are Accessed by Importing the Library\n",
        "\n",
        "| Imports |\n",
        "| --- |\n",
        "| import <i>library</i> |\n",
        "| from <i>library</i> import <i>class, function, variable</i> |"
      ]
    },
    {
      "cell_type": "markdown",
      "id": "6656405b",
      "metadata": {
        "id": "6656405b"
      },
      "source": [
        "### Numpy, Matplotlib and Random Libraries\n",
        "- Arrays, Random Numbers and Numerical Stuff"
      ]
    },
    {
      "cell_type": "code",
      "execution_count": 9,
      "id": "7fc162e9",
      "metadata": {
        "id": "7fc162e9"
      },
      "outputs": [],
      "source": [
        "import numpy as np\n",
        "import matplotlib.pyplot as plt # have to plot to see what we got\n",
        "from random import gauss"
      ]
    },
    {
      "cell_type": "code",
      "execution_count": 10,
      "id": "bfad12d1",
      "metadata": {
        "id": "bfad12d1",
        "outputId": "6a74738d-59e3-4849-d519-ecc9c37e9980",
        "colab": {
          "base_uri": "https://localhost:8080/"
        }
      },
      "outputs": [
        {
          "output_type": "stream",
          "name": "stdout",
          "text": [
            "1.0551290354000011\n"
          ]
        }
      ],
      "source": [
        "# Last one first with fancy unicode variable names\n",
        "μ = 0.0\n",
        "σ = 1.0\n",
        "print(gauss(μ, σ))"
      ]
    },
    {
      "cell_type": "code",
      "execution_count": 11,
      "id": "98232a6e",
      "metadata": {
        "id": "98232a6e",
        "outputId": "c7ffc3be-feda-4ebc-c02e-02ee57c39ade",
        "colab": {
          "base_uri": "https://localhost:8080/"
        }
      },
      "outputs": [
        {
          "output_type": "stream",
          "name": "stdout",
          "text": [
            "ndarray [ 0.  1.  2.  3.  4.  5.  6.  7.  8.  9. 10.]\n",
            "ndarray [0.  0.9 1.8 2.7 3.6 4.5 5.5 6.4 7.3 8.2 9.1]\n"
          ]
        }
      ],
      "source": [
        "# array with 11 elements, last element included\n",
        "a = np.linspace(0,10,11)\n",
        "print(vtype(a), a)\n",
        "\n",
        "# array with 11 elements, last element not included\n",
        "a = np.linspace(0,10,11,endpoint=False)\n",
        "print(vtype(a), np.round(a,1))"
      ]
    },
    {
      "cell_type": "code",
      "execution_count": 12,
      "id": "8c1b430b",
      "metadata": {
        "id": "8c1b430b",
        "outputId": "b42b2c62-a825-4b5f-b29d-2b78d528252b",
        "colab": {
          "base_uri": "https://localhost:8080/",
          "height": 501
        }
      },
      "outputs": [
        {
          "output_type": "display_data",
          "data": {
            "image/png": "[encoded data removed]",
            "text/plain": [
              "<Figure size 576x576 with 4 Axes>"
            ]
          },
          "metadata": {}
        }
      ],
      "source": [
        "# X-axis linspace function 111 points from 0 to 100    \n",
        "x = np.linspace(0.1,10,200)\n",
        "\n",
        "# Compute for mathematical functions - sine, cosine, exponential, and logarithmic functions\n",
        "functions = [np.sin(x), np.cos(x), np.exp(x), np.log(x)]\n",
        "titles = ['Sine', 'Cosine', 'Exponential', 'Log']\n",
        "\n",
        "# Plot the functions\n",
        "plt.rcParams['figure.facecolor'] = '#99cc99'\n",
        "plt.figure(figsize=(8,8))\n",
        "\n",
        "for index,function in enumerate(functions):\n",
        "    plt.subplot(2, 2, index+1)\n",
        "    plt.plot(x,function, color='b')\n",
        "    plt.title(titles[index],fontsize=16)"
      ]
    },
    {
      "cell_type": "markdown",
      "id": "86c5a876",
      "metadata": {
        "id": "86c5a876"
      },
      "source": [
        "### Python Common String Operations:\n",
        "- Library Functions are Accessed by Importing the Library\n",
        "\n",
        "| Frequently Used String Manipulations | |\n",
        "| --- | --- |\n",
        "| <i>string1 + string1</i> | 'str' + 'ing' --> 'string' |\n",
        "| '%%s' % (<i>string1, string2</i>) |  '%%s' % ('s', 'g) --> 'sg' |\n",
        "| <i>string</i>.split(<i>' delim', limit</i>) | 's/g'. split('/') --> \\['s', 'g'] |\n",
        "| <i>string</i>.strip() | ' string '. strip() --> 'string' |\n",
        "| <i>string</i>.startswith (<i>'prefix'</i>) | 'str'.startswith('s') --> True |\n",
        "| <i>substring</i> in <i>string</i> | 'str' in 'string' --> True |\n",
        "| print <i>string</i> | |"
      ]
    },
    {
      "cell_type": "code",
      "execution_count": 13,
      "id": "c43cb1f0",
      "metadata": {
        "id": "c43cb1f0",
        "outputId": "b136c929-6013-487b-efab-5fdacf1fffd0",
        "colab": {
          "base_uri": "https://localhost:8080/"
        }
      },
      "outputs": [
        {
          "output_type": "stream",
          "name": "stdout",
          "text": [
            "str: string\n",
            "str: string\n",
            "list: ['how', 'now', 'brown cow']\n",
            "str: how now brown cow\n",
            "bool: True\n",
            "bool: True\n",
            "how now brown cow\n"
          ]
        }
      ],
      "source": [
        "s = 'str' + 'ing'\n",
        "print(vtype(s), ': ', s, sep='') # no padding\n",
        "s = '%s%s'%('str','ing')\n",
        "print(vtype(s), ': ', s, sep='')\n",
        "s = 'how now brown cow'.split(' ',2)\n",
        "print(vtype(s), ': ', s, sep='')\n",
        "s = 'how now brown cow'.strip()\n",
        "print(vtype(s), ': ', s, sep='')\n",
        "b = s.startswith('how')\n",
        "print(vtype(b), ': ',b, sep='')\n",
        "b = 'cow' in s\n",
        "print(vtype(b), ': ',b, sep='')\n",
        "print(s)"
      ]
    },
    {
      "cell_type": "markdown",
      "id": "30121047",
      "metadata": {
        "id": "30121047"
      },
      "source": [
        "### Python List Comprehensions:\n",
        "- Works in n dimensions, start with 1 until you get it.\n",
        "\n",
        "| List Comprehension |\n",
        "| --- |\n",
        "| \\[ <i>value</i> <b>for</b> <i>value</i> <b>in</b> <i>list</i> <b>if</b> <i>condition</i> ] |\n",
        "| e.g. |\n",
        "| \\[x for x in [1,2,3,4,5,6,7,8,9] if x % 2 == 0] --> [2,4,6,8] |"
      ]
    },
    {
      "cell_type": "code",
      "execution_count": 14,
      "id": "702a3ac7",
      "metadata": {
        "id": "702a3ac7",
        "outputId": "17eb1d7d-8ad7-40e6-f995-b69c7503e787",
        "colab": {
          "base_uri": "https://localhost:8080/"
        }
      },
      "outputs": [
        {
          "output_type": "stream",
          "name": "stdout",
          "text": [
            "list: [1, 2, 3, 4, 5, 6, 7, 8, 9, 10]\n",
            "list: [1, 3, 5, 7, 9]\n",
            "list: [2, 4, 6, 8, 10]\n"
          ]
        }
      ],
      "source": [
        "u = [x for x in range(1,11)]\n",
        "print(vtype(u), ': ',u , sep='')\n",
        "\n",
        "u = [x for x in range(1,11) if x % 2]\n",
        "print(vtype(u), ': ',u , sep='')\n",
        "\n",
        "u = [x for x in range(1,11) if not x % 2]\n",
        "print(vtype(u), ': ',u , sep='')"
      ]
    },
    {
      "cell_type": "markdown",
      "id": "c5beae93",
      "metadata": {
        "id": "c5beae93"
      },
      "source": [
        "### Python Variable Access:\n",
        "\n",
        "| Accessing Variable Values | |\n",
        "| --- | --- |\n",
        "| <i>value = dictionary\\[key]</i> |\n",
        "| <i>value = dictionary.get(key, default_value)</i> |\n",
        "| <i>value = list\\[index]</i> | e.g. \\[5,6,7][2] --> 7 |\n",
        "| <i>value = string\\[start: end]</i> | e.g 'string'\\[0:3] --> 'str' |\n",
        "| <i>value = list\\[start:end]</i> | e.g. \\[1,2,3][1:2] --> 2 |\n",
        "| <i>value = ClassName.class_variable</i>  | |\n",
        "| <i>value = class_instance.instance_variable</i> |\n",
        "| <i>value = class_instance.function(args)</i> |"
      ]
    },
    {
      "cell_type": "code",
      "execution_count": 15,
      "id": "42429c21",
      "metadata": {
        "id": "42429c21",
        "outputId": "8dff9c19-5ffb-48a1-9a78-9b40c1cad6c3",
        "colab": {
          "base_uri": "https://localhost:8080/"
        }
      },
      "outputs": [
        {
          "output_type": "stream",
          "name": "stdout",
          "text": [
            "dict {'apple': 'red', 'banana': 'yellow', 'grape': 'green', 'orange': 'orange'}\n",
            "for key = grape, color = green\n",
            "orange\n",
            "ran\n",
            "['banana', 'grape', 'orange']\n",
            "5\n",
            "10\n",
            "15\n"
          ]
        }
      ],
      "source": [
        "# Use dictionary comprehension which is crazy compact compared to enumeration!\n",
        "fruit = ['apple', 'banana', 'grape', 'orange']\n",
        "color = ['red', 'yellow', 'green', 'orange']\n",
        "d = {fruit[n]:color[n] for n in range(0,len(fruit)) }\n",
        "print(vtype(d), d)\n",
        "\n",
        "key = 'grape'\n",
        "value = d[key]\n",
        "print('for key = ', key, ', color = ', value, sep='')\n",
        "\n",
        "value = fruit[3]\n",
        "print(value)\n",
        "\n",
        "fragment = value[1:4]\n",
        "print(fragment)\n",
        "\n",
        "sublist = fruit[1:4]\n",
        "print(sublist)\n",
        "\n",
        "c = AddOffset(5, 10)\n",
        "print(c.value)\n",
        "print(c.offset)\n",
        "print(c.get_value_plus_offset())"
      ]
    },
    {
      "cell_type": "markdown",
      "id": "728cf241",
      "metadata": {
        "id": "728cf241"
      },
      "source": [
        "### Python Comparison Operators:\n",
        "\n",
        "| Comparison Operators | |\n",
        "| --- | --- |\n",
        "| <i>value1 == value2</i> | 'str' == 'str' --> True |\n",
        "| <i>value1 != value 2</i> | 'str' != 'str' --> False |\n",
        "| <i>value1 \\<  value2 </i>| 1 \\< 2 --> True |\n",
        "| <i>value1 \\<= value2</i> | 2 \\<= 2 --> True |\n",
        "| <i>value1 >  value2</i> | 2 > 3 --> False|\n",
        "| <i>value1 >= value2</i> | 3 >= 3 --> True |\n",
        "| <i>value</i> <b>is \\[not] None</b> | |\n",
        "| <i>value</i> <b>in</b> <i>list</i> | 1 in \\[2,3,4] › False |\n",
        "| <b>isinstance</b>(<i>class_instance, ClassName</i>) | |\n"
      ]
    },
    {
      "cell_type": "code",
      "execution_count": 16,
      "id": "597a2ea1",
      "metadata": {
        "id": "597a2ea1",
        "outputId": "b0153ae3-f00a-4eae-8506-b4105338b795",
        "colab": {
          "base_uri": "https://localhost:8080/"
        }
      },
      "outputs": [
        {
          "output_type": "stream",
          "name": "stdout",
          "text": [
            "'this'=='this' ==> True\n",
            "'this'=='that' ==> False\n",
            "1 <  2 --> True\n",
            "2 <= 2 --> True\n",
            "2 >  3 --> False\n",
            "3 >= 3 --> True\n",
            "1 is [1][0] --> True\n",
            "1 is not [1][0] --> False\n",
            "'banana' in fruit --> True\n",
            "isinstance(c, AddOffset) --> True\n"
          ]
        }
      ],
      "source": [
        "print('\\'this\\'==\\'this\\' ==>', 'this'=='this')\n",
        "print('\\'this\\'==\\'that\\' ==>', 'this'=='that')\n",
        "print('1 <  2 -->', 1 <  2)\n",
        "print('2 <= 2 -->', 2 <= 2)\n",
        "print('2 >  3 -->', 2 >  3)\n",
        "print('3 >= 3 -->', 3 >= 3)\n",
        "print('1 is [1][0] -->', 1 is [1][0])\n",
        "print('1 is not [1][0] -->', 1 is not [1][0])\n",
        "print('\\'banana\\' in fruit -->', 'banana' in fruit)\n",
        "print('isinstance(c, AddOffset) -->', isinstance(c, AddOffset))"
      ]
    },
    {
      "cell_type": "markdown",
      "id": "8d102ee1",
      "metadata": {
        "id": "8d102ee1"
      },
      "source": [
        "### Python Basic Arithmetic:\n",
        "\n",
        "| Basic Arithmetic | |\n",
        "| --- | --- |\n",
        "| c = a + b | c = a - b |\n",
        "| c = a * b | c = a / b |\n",
        "| c = a % b | c = a**b  |"
      ]
    },
    {
      "cell_type": "code",
      "execution_count": 17,
      "id": "b72d3dac",
      "metadata": {
        "id": "b72d3dac",
        "outputId": "528f9c6c-0b79-48cc-ae29-355997b1f6ce",
        "colab": {
          "base_uri": "https://localhost:8080/"
        }
      },
      "outputs": [
        {
          "output_type": "stream",
          "name": "stdout",
          "text": [
            "5\n",
            "-1\n",
            "6\n",
            "0.6666666666666666\n",
            "2\n",
            "8\n",
            "1.4142135623730951\n"
          ]
        }
      ],
      "source": [
        "a = 2\n",
        "b = 3\n",
        "\n",
        "c = a + b; print(c)\n",
        "c = a - b; print(c)\n",
        "c = a * b; print(c)\n",
        "c = a / b; print(c)\n",
        "c = a % b; print(c)\n",
        "\n",
        "c = a ** b; print(c)\n",
        "\n",
        "import math\n",
        "c = math.sqrt(a); print(c)"
      ]
    },
    {
      "cell_type": "markdown",
      "id": "1fe20152",
      "metadata": {
        "id": "1fe20152"
      },
      "source": [
        "### Python Symbolic Arithmetic:\n",
        "- Symbolic Operations described [here](https://scipy-lectures.org/packages/sympy.html)"
      ]
    },
    {
      "cell_type": "code",
      "execution_count": 18,
      "id": "e7bd48a3",
      "metadata": {
        "id": "e7bd48a3",
        "outputId": "7100be97-78a8-4621-9cbf-e4f844ccb08f",
        "colab": {
          "base_uri": "https://localhost:8080/"
        }
      },
      "outputs": [
        {
          "output_type": "execute_result",
          "data": {
            "text/plain": [
              "[(-b + sqrt(-4*a*c + b**2))/(2*a), -(b + sqrt(-4*a*c + b**2))/(2*a)]"
            ]
          },
          "metadata": {},
          "execution_count": 18
        }
      ],
      "source": [
        "import sympy as sym\n",
        "\n",
        "x = sym.Symbol('x')\n",
        "y = sym.Symbol('y')\n",
        "a = sym.Symbol('a')\n",
        "b = sym.Symbol('b')\n",
        "c = sym.Symbol('c')\n",
        "\n",
        "y = a*x**2 + b*x + c\n",
        "\n",
        "sym.solve(y,x) # Derives the quadratic formula!"
      ]
    },
    {
      "cell_type": "markdown",
      "id": "7679945a",
      "metadata": {
        "id": "7679945a"
      },
      "source": [
        "### Python Comments:\n",
        "\n",
        "| Comments |\n",
        "| --- |\n",
        "| # Single Line Comment |\n",
        "| ''' |\n",
        "| Multi-line comment |\n",
        "| ''' |"
      ]
    },
    {
      "cell_type": "code",
      "execution_count": 19,
      "id": "d22e74cc",
      "metadata": {
        "id": "d22e74cc",
        "outputId": "6ab7f01e-a1ef-41e8-8057-59ff4adc9c6d",
        "colab": {
          "base_uri": "https://localhost:8080/",
          "height": 35
        }
      },
      "outputs": [
        {
          "output_type": "execute_result",
          "data": {
            "application/vnd.google.colaboratory.intrinsic+json": {
              "type": "string"
            },
            "text/plain": [
              "'\\nThis is multline comment.\\nWorks with both single and double quotes.\\n'"
            ]
          },
          "metadata": {},
          "execution_count": 19
        }
      ],
      "source": [
        "# This is a code cell comment, same as bash\n",
        "'''\n",
        "This is multline comment.\n",
        "Works with both single and double quotes.\n",
        "'''"
      ]
    },
    {
      "cell_type": "markdown",
      "id": "c39f91d6",
      "metadata": {
        "id": "c39f91d6"
      },
      "source": [
        "### Python Control Flow:\n",
        "\n",
        "| Control Flow | |\n",
        "| --- | --- |\n",
        "| <b>if</b> <i>conditional:</i> | |\n",
        "| &nbsp; &nbsp; &nbsp; &nbsp;  <i>\\<body></i> | |\n",
        "| <b>elif</b> <i>conditional:</i> | |\n",
        "| &nbsp; &nbsp; &nbsp; &nbsp;  <i>\\<body></i> | |\n",
        "| <b>else:</b> | |\n",
        "| &nbsp; &nbsp; &nbsp; &nbsp;  <i>\\<body></i> | |\n",
        "| <b>for</b> value <b>in</b> <i>list:</i> | |\n",
        "| &nbsp; &nbsp; &nbsp; &nbsp;  <i>\\<body></i> | |\n",
        "| &nbsp; &nbsp; &nbsp; &nbsp; <b>continue</b> | |\n",
        "| &nbsp; &nbsp; &nbsp; &nbsp; <b>break</b> | |\n",
        "| <b>while</b> <i>conditional:</i> | |\n",
        "| &nbsp; &nbsp; &nbsp; &nbsp;  <i>\\<body></i> | |\n",
        "| &nbsp; &nbsp; &nbsp; &nbsp; <b>continue</b> | |\n",
        "| &nbsp; &nbsp; &nbsp; &nbsp; <b>break</b> | |"
      ]
    },
    {
      "cell_type": "markdown",
      "id": "2a0741ee",
      "metadata": {
        "id": "2a0741ee"
      },
      "source": [
        "### install inflection library for naming numbers\n",
        "- at the shell type: conda install -c conda-forge inflect\n",
        "- documentation on inflect library is [here](https://pypi.org/project/inflect/)"
      ]
    },
    {
      "cell_type": "code",
      "execution_count": 20,
      "id": "11100159",
      "metadata": {
        "id": "11100159"
      },
      "outputs": [],
      "source": [
        "import inflect\n",
        "ie = inflect.engine()"
      ]
    },
    {
      "cell_type": "code",
      "execution_count": 21,
      "id": "f67b7454",
      "metadata": {
        "id": "f67b7454",
        "outputId": "10ab140c-92be-4340-8913-f10292487a3b",
        "colab": {
          "base_uri": "https://localhost:8080/"
        }
      },
      "outputs": [
        {
          "output_type": "stream",
          "name": "stdout",
          "text": [
            "three\n",
            "for i in range(0,4) -----------\n",
            "0\n",
            "1\n",
            "3\n",
            "for i in range(0,4):-----------\n",
            "0\n",
            "1\n",
            "while i in range(0,4):-----------\n",
            "0\n",
            "1\n",
            "3\n",
            "while i in range(0,4):-----------\n",
            "0\n",
            "1\n"
          ]
        }
      ],
      "source": [
        "i = 3\n",
        "# control statements, including function definitions are  terminated with a colon, ':'\n",
        "if i == 7:\n",
        "    print('seven')\n",
        "elif i == 8:\n",
        "    print('eight')\n",
        "else:\n",
        "    print(ie.number_to_words(i))\n",
        "\n",
        "print('for i in range(0,4) -----------')\n",
        "for i in range(0,4):\n",
        "    if i == 2:\n",
        "        continue\n",
        "    else:\n",
        "        print(i)\n",
        "        \n",
        "print('for i in range(0,4):-----------')    \n",
        "for i in range(0,4):\n",
        "    if i == 2:\n",
        "        break\n",
        "    else:\n",
        "        print(i)\n",
        "        \n",
        "print('while i in range(0,4):-----------')\n",
        "i = 0\n",
        "while i in range(0,4):\n",
        "    if i == 2:\n",
        "        i += 1\n",
        "        continue\n",
        "    else:\n",
        "        print(i)\n",
        "    i += 1\n",
        "        \n",
        "print('while i in range(0,4):-----------')    \n",
        "i = 0\n",
        "while i in range(0,4):\n",
        "    if i == 2:\n",
        "        break\n",
        "    else:\n",
        "        print(i)\n",
        "    i += 1\n"
      ]
    },
    {
      "cell_type": "markdown",
      "id": "2031652a",
      "metadata": {
        "id": "2031652a"
      },
      "source": [
        "### Python Exceptions:\n",
        "- More info on exceptions [here](https://zetcode.com/lang/python/exceptions/)\n",
        "\n",
        "| Exceptions |\n",
        "| --- |\n",
        "| <b>try:</b> |\n",
        "| &nbsp; &nbsp; &nbsp; &nbsp; <i>\\<body></i> |\n",
        "| &nbsp; &nbsp; &nbsp; &nbsp;  <b>raise</b> Exception() |\n",
        "    | <b>except</b> Exception <b>as</b> e: |\n",
        "| &nbsp; &nbsp; &nbsp; &nbsp; <i>\\<exception handling></i> |\n",
        "| finally: |\n",
        "| &nbsp; &nbsp; &nbsp; &nbsp; <i>\\<clean-up></i> |"
      ]
    },
    {
      "cell_type": "code",
      "execution_count": 22,
      "id": "45d4ac41",
      "metadata": {
        "id": "45d4ac41",
        "outputId": "68904c72-3c4e-472a-de74-7e570381179e",
        "colab": {
          "base_uri": "https://localhost:8080/"
        }
      },
      "outputs": [
        {
          "output_type": "stream",
          "name": "stdout",
          "text": [
            "Can't divide by 0, setting t to Math.inf\n",
            "division by zero\n",
            "float inf\n"
          ]
        }
      ],
      "source": [
        "try:\n",
        "    t = 1/0\n",
        "except ZeroDivisionError as e:\n",
        "    print(\"Can't divide by 0, setting t to Math.inf\")\n",
        "    print(str(e))\n",
        "finally:\n",
        "    t = math.inf\n",
        "    print(vtype(t), t)\n"
      ]
    },
    {
      "cell_type": "markdown",
      "id": "d7443160",
      "metadata": {
        "id": "d7443160"
      },
      "source": [
        "### Python File Operations:\n",
        "| File & Path Manipulation |\n",
        "| --- |\n",
        "| <b>import</b> os <i># import the os module first</i> |\n",
        "| os.path.join(<i>path_ segment1, path_segment2, ...</i>) |\n",
        "| os.path.exists(<i>path)</i> |\n",
        "| os.listdir(<i>directory_path)</i> |\n",
        "| os.remove(<i>file_path)</i> |\n",
        "| os.rmdir(<i>directory_path)</i> |\n",
        "| <i>file</i> = open(<i>path, 'rw') |\n",
        "| <i>file</i>.read() |\n",
        "| <i>string</i>.write(<i>'string'</i>) |"
      ]
    },
    {
      "cell_type": "code",
      "execution_count": 23,
      "id": "51b5385c",
      "metadata": {
        "colab": {
          "base_uri": "https://localhost:8080/"
        },
        "id": "51b5385c",
        "outputId": "f54efe4f-c850-42f3-95da-f1b22760b146"
      },
      "outputs": [
        {
          "output_type": "stream",
          "name": "stdout",
          "text": [
            "True\n",
            "['.config', 'sample_data']\n",
            "This file contains the line testing 1, 2, 3\n",
            "None\n"
          ]
        }
      ],
      "source": [
        "import os\n",
        "print(os.path.exists('..'))\n",
        "print(os.listdir('.'))\n",
        "output_file = open('testing123.txt', 'w')\n",
        "output_file.write('This file contains the line testing 1, 2, 3')\n",
        "output_file.close()\n",
        "input_file = open('testing123.txt', 'r')\n",
        "print(input_file.read())\n",
        "print(os.remove('testing123.txt'))"
      ]
    },
    {
      "cell_type": "code",
      "execution_count": 23,
      "id": "667b83e9",
      "metadata": {
        "id": "667b83e9"
      },
      "outputs": [],
      "source": [
        ""
      ]
    }
  ],
  "metadata": {
    "kernelspec": {
      "display_name": "Python 3 (ipykernel)",
      "language": "python",
      "name": "python3"
    },
    "language_info": {
      "codemirror_mode": {
        "name": "ipython",
        "version": 3
      },
      "file_extension": ".py",
      "mimetype": "text/x-python",
      "name": "python",
      "nbconvert_exporter": "python",
      "pygments_lexer": "ipython3",
      "version": "3.7.11"
    },
    "colab": {
      "name": "Van_Python_Quick_Reference.ipynb",
      "provenance": [],
      "collapsed_sections": []
    }
  },
  "nbformat": 4,
  "nbformat_minor": 5
}